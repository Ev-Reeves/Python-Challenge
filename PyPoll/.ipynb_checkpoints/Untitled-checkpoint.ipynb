{
 "cells": [
  {
   "cell_type": "code",
   "execution_count": 2,
   "metadata": {},
   "outputs": [],
   "source": [
    "import csv\n",
    "import os\n",
    "import pandas as pd"
   ]
  },
  {
   "cell_type": "code",
   "execution_count": 20,
   "metadata": {},
   "outputs": [
    {
     "name": "stdout",
     "output_type": "stream",
     "text": [
      "3521001\n"
     ]
    }
   ],
   "source": [
    "election = \"/Users/evanreeves/Desktop/ucb-ber-data-pt-06-2020-u-c/02-Homework/03-Python/Python-Challenge/PyPoll/Resources/election_data.csv\"\n",
    "election_ = pd.read_csv(election)"
   ]
  },
  {
   "cell_type": "code",
   "execution_count": 67,
   "metadata": {},
   "outputs": [],
   "source": [
    "unique_votes = election_[\"Voter ID\"].unique()\n",
    "\n",
    "unique_candidates = election_[\"Candidate\"].unique()\n",
    "\n",
    "vote_percentage = [election_[\"Candidate\"].value_counts(\"Khan\")]\n",
    "\n",
    "popular_vote = [election_[\"Candidate\"].value_counts()]        "
   ]
  },
  {
   "cell_type": "code",
   "execution_count": 115,
   "metadata": {},
   "outputs": [
    {
     "name": "stdout",
     "output_type": "stream",
     "text": [
      "Khan\n"
     ]
    }
   ],
   "source": [
    "election_winner = election_[\"Candidate\"].mode(0)\n",
    "winner = election_winner[0]\n",
    "print(winner)"
   ]
  },
  {
   "cell_type": "code",
   "execution_count": 131,
   "metadata": {},
   "outputs": [
    {
     "name": "stdout",
     "output_type": "stream",
     "text": [
      "Total votes: 3521001\n",
      "Vote Percentages: \n",
      "[Khan        0.63\n",
      "Correy      0.20\n",
      "Li          0.14\n",
      "O'Tooley    0.03\n",
      "Name: Candidate, dtype: float64]\n",
      "Popular Vote: \n",
      "[Khan        2218231\n",
      "Correy       704200\n",
      "Li           492940\n",
      "O'Tooley     105630\n",
      "Name: Candidate, dtype: int64]\n",
      "Winner: Khan\n"
     ]
    }
   ],
   "source": [
    "print(\"Total votes: \" + str(len(unique_votes)))\n",
    "print(\"Vote Percentages: \")\n",
    "print(str(vote_percentage))\n",
    "print(\"Popular Vote: \")\n",
    "print(str(popular_vote))\n",
    "print(\"Winner: \" + str(winner)) "
   ]
  },
  {
   "cell_type": "code",
   "execution_count": null,
   "metadata": {},
   "outputs": [],
   "source": [
    "with open(election_analysis, \"w\", newline=\"\") as ea:\n",
    "    writer = csv.writer(ba)\n",
    "    writer.writerow([\"Total months: \" + str(month_span)])\n",
    "    writer.writerow([\"Net profits/losses: \"+ \"$\"+ str(net)])\n",
    "    writer.writerow([\"Average change: \" + \"$\" + str(average_change)])\n",
    "    writer.writerow([\"Greatest increase in profits: \" + max_month +\" : \" + str(max_profit)])\n",
    "    writer.writerow([\"Greatest decrease in profits: \" + min_month +\" : \" + str(max_loss)])"
   ]
  }
 ],
 "metadata": {
  "kernelspec": {
   "display_name": "Python 3",
   "language": "python",
   "name": "python3"
  },
  "language_info": {
   "codemirror_mode": {
    "name": "ipython",
    "version": 3
   },
   "file_extension": ".py",
   "mimetype": "text/x-python",
   "name": "python",
   "nbconvert_exporter": "python",
   "pygments_lexer": "ipython3",
   "version": "3.7.6"
  }
 },
 "nbformat": 4,
 "nbformat_minor": 4
}
